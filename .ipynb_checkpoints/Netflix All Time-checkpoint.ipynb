{
 "cells": [
  {
   "cell_type": "code",
   "execution_count": 30,
   "id": "322ba4e1-6fc9-4280-ad87-e95ccacdd0d1",
   "metadata": {
    "scrolled": true
   },
   "outputs": [
    {
     "name": "stdout",
     "output_type": "stream",
     "text": [
      "                 title   type                     genres  releaseYear  \\\n",
      "0                Ariel  movie       Comedy, Crime, Drama       1988.0   \n",
      "1  Shadows in Paradise  movie       Comedy, Drama, Music       1986.0   \n",
      "2         Forrest Gump  movie             Drama, Romance       1994.0   \n",
      "3      American Beauty  movie                      Drama       1999.0   \n",
      "4    The Fifth Element  movie  Action, Adventure, Sci-Fi       1997.0   \n",
      "\n",
      "      imdbId  imdbAverageRating  imdbNumVotes availableCountries  \n",
      "0  tt0094675                7.4        9216.0                NaN  \n",
      "1  tt0092149                7.4        8047.0                NaN  \n",
      "2  tt0109830                8.8     2386448.0                NaN  \n",
      "3  tt0169547                8.3     1251085.0                NaN  \n",
      "4  tt0119116                7.6      528257.0                NaN  \n"
     ]
    }
   ],
   "source": [
    "import pandas as pd\n",
    "df = pd.read_csv(r\"D:\\Information Technology\\Netflix all time data\\data.csv\")\n",
    "print((df).head())"
   ]
  },
  {
   "cell_type": "code",
   "execution_count": 26,
   "id": "c6493adb-5ede-45c5-a4a5-a4ca7c168f30",
   "metadata": {},
   "outputs": [
    {
     "data": {
      "text/plain": [
       "155"
      ]
     },
     "execution_count": 26,
     "metadata": {},
     "output_type": "execute_result"
    }
   ],
   "source": [
    "df['availableCountries'].notnull().sum() # cheking the sum of nun null values from this columns"
   ]
  },
  {
   "cell_type": "code",
   "execution_count": 28,
   "id": "22f95743-eaa2-4a2c-be1d-16ade38899a8",
   "metadata": {},
   "outputs": [
    {
     "name": "stdout",
     "output_type": "stream",
     "text": [
      "648                                                     TZ\n",
      "1362                                                    TZ\n",
      "1618                                                    TZ\n",
      "2516                                                BR, PT\n",
      "2798     AD, AE, AG, AL, AO, AR, AT, AU, AZ, BA, BB, BE...\n",
      "                               ...                        \n",
      "21657               HK, ID, IN, JP, MY, PH, PK, SG, TH, TW\n",
      "21670           HK, ID, IN, JP, KR, MY, PH, PK, SG, TH, TW\n",
      "21680                                       AT, CH, DE, LI\n",
      "21682    FJ, HK, ID, IN, JP, KR, MU, MY, PH, PK, SG, TH...\n",
      "21692    AT, CH, DE, HK, ID, IN, IT, JP, KR, LI, MY, PH...\n",
      "Name: availableCountries, Length: 155, dtype: object\n"
     ]
    }
   ],
   "source": [
    "print(df[df['availableCountries'].notnull()]['availableCountries']) # checking the non null values in this column "
   ]
  },
  {
   "cell_type": "code",
   "execution_count": 34,
   "id": "feac7983-0f4d-4077-b79d-7d842634cf37",
   "metadata": {},
   "outputs": [
    {
     "name": "stdout",
     "output_type": "stream",
     "text": [
      "<class 'pandas.core.frame.DataFrame'>\n",
      "RangeIndex: 21850 entries, 0 to 21849\n",
      "Data columns (total 8 columns):\n",
      " #   Column              Non-Null Count  Dtype  \n",
      "---  ------              --------------  -----  \n",
      " 0   title               21119 non-null  object \n",
      " 1   type                21850 non-null  object \n",
      " 2   genres              21480 non-null  object \n",
      " 3   releaseYear         21810 non-null  float64\n",
      " 4   imdbId              20208 non-null  object \n",
      " 5   imdbAverageRating   20030 non-null  float64\n",
      " 6   imdbNumVotes        20030 non-null  float64\n",
      " 7   availableCountries  155 non-null    object \n",
      "dtypes: float64(3), object(5)\n",
      "memory usage: 1.3+ MB\n"
     ]
    }
   ],
   "source": [
    "df.info()"
   ]
  },
  {
   "cell_type": "code",
   "execution_count": 38,
   "id": "18241699-ec49-4bfe-be7f-866fbfdacdc6",
   "metadata": {},
   "outputs": [
    {
     "data": {
      "text/plain": [
       "title                   731\n",
       "type                      0\n",
       "genres                  370\n",
       "releaseYear              40\n",
       "imdbId                 1642\n",
       "imdbAverageRating      1820\n",
       "imdbNumVotes           1820\n",
       "availableCountries    21695\n",
       "dtype: int64"
      ]
     },
     "execution_count": 38,
     "metadata": {},
     "output_type": "execute_result"
    }
   ],
   "source": [
    "df.isnull().sum() # checking the null values along every columns"
   ]
  },
  {
   "cell_type": "code",
   "execution_count": 46,
   "id": "aed30233-727a-4b52-8390-5e20e08cca84",
   "metadata": {},
   "outputs": [],
   "source": [
    "df['releaseYear'] = pd.to_datetime(df['releaseYear'], format = '%Y', errors = 'coerce') # coveting the column to date time format"
   ]
  },
  {
   "cell_type": "code",
   "execution_count": null,
   "id": "bd722116-fc29-4514-b583-04868d2450dc",
   "metadata": {},
   "outputs": [],
   "source": []
  }
 ],
 "metadata": {
  "kernelspec": {
   "display_name": "Python 3 (ipykernel)",
   "language": "python",
   "name": "python3"
  },
  "language_info": {
   "codemirror_mode": {
    "name": "ipython",
    "version": 3
   },
   "file_extension": ".py",
   "mimetype": "text/x-python",
   "name": "python",
   "nbconvert_exporter": "python",
   "pygments_lexer": "ipython3",
   "version": "3.12.4"
  }
 },
 "nbformat": 4,
 "nbformat_minor": 5
}
