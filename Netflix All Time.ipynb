{
 "cells": [
  {
   "cell_type": "code",
   "execution_count": 336,
   "id": "322ba4e1-6fc9-4280-ad87-e95ccacdd0d1",
   "metadata": {
    "scrolled": true
   },
   "outputs": [
    {
     "name": "stdout",
     "output_type": "stream",
     "text": [
      "                 title   type                     genres  releaseYear  \\\n",
      "0                Ariel  movie       Comedy, Crime, Drama       1988.0   \n",
      "1  Shadows in Paradise  movie       Comedy, Drama, Music       1986.0   \n",
      "2         Forrest Gump  movie             Drama, Romance       1994.0   \n",
      "3      American Beauty  movie                      Drama       1999.0   \n",
      "4    The Fifth Element  movie  Action, Adventure, Sci-Fi       1997.0   \n",
      "\n",
      "      imdbId  imdbAverageRating  imdbNumVotes availableCountries  \n",
      "0  tt0094675                7.4        9216.0                NaN  \n",
      "1  tt0092149                7.4        8047.0                NaN  \n",
      "2  tt0109830                8.8     2386448.0                NaN  \n",
      "3  tt0169547                8.3     1251085.0                NaN  \n",
      "4  tt0119116                7.6      528257.0                NaN  \n"
     ]
    }
   ],
   "source": [
    "import pandas as pd # importing pandas here\n",
    "df = pd.read_csv(r\"D:\\Information Technology\\Netflix all time data\\data.csv\")\n",
    "print((df).head()) # printing the first few data here"
   ]
  },
  {
   "cell_type": "code",
   "execution_count": 338,
   "id": "c6493adb-5ede-45c5-a4a5-a4ca7c168f30",
   "metadata": {},
   "outputs": [
    {
     "data": {
      "text/plain": [
       "155"
      ]
     },
     "execution_count": 338,
     "metadata": {},
     "output_type": "execute_result"
    }
   ],
   "source": [
    "df['availableCountries'].notnull().sum() # cheking the sum of nun null values from this columns"
   ]
  },
  {
   "cell_type": "code",
   "execution_count": 340,
   "id": "22f95743-eaa2-4a2c-be1d-16ade38899a8",
   "metadata": {},
   "outputs": [
    {
     "name": "stdout",
     "output_type": "stream",
     "text": [
      "648                                                     TZ\n",
      "1362                                                    TZ\n",
      "1618                                                    TZ\n",
      "2516                                                BR, PT\n",
      "2798     AD, AE, AG, AL, AO, AR, AT, AU, AZ, BA, BB, BE...\n",
      "                               ...                        \n",
      "21657               HK, ID, IN, JP, MY, PH, PK, SG, TH, TW\n",
      "21670           HK, ID, IN, JP, KR, MY, PH, PK, SG, TH, TW\n",
      "21680                                       AT, CH, DE, LI\n",
      "21682    FJ, HK, ID, IN, JP, KR, MU, MY, PH, PK, SG, TH...\n",
      "21692    AT, CH, DE, HK, ID, IN, IT, JP, KR, LI, MY, PH...\n",
      "Name: availableCountries, Length: 155, dtype: object\n"
     ]
    }
   ],
   "source": [
    "print(df[df['availableCountries'].notnull()]['availableCountries']) # checking the non null values in this column "
   ]
  },
  {
   "cell_type": "code",
   "execution_count": 342,
   "id": "feac7983-0f4d-4077-b79d-7d842634cf37",
   "metadata": {},
   "outputs": [
    {
     "name": "stdout",
     "output_type": "stream",
     "text": [
      "<class 'pandas.core.frame.DataFrame'>\n",
      "RangeIndex: 21850 entries, 0 to 21849\n",
      "Data columns (total 8 columns):\n",
      " #   Column              Non-Null Count  Dtype  \n",
      "---  ------              --------------  -----  \n",
      " 0   title               21119 non-null  object \n",
      " 1   type                21850 non-null  object \n",
      " 2   genres              21480 non-null  object \n",
      " 3   releaseYear         21810 non-null  float64\n",
      " 4   imdbId              20208 non-null  object \n",
      " 5   imdbAverageRating   20030 non-null  float64\n",
      " 6   imdbNumVotes        20030 non-null  float64\n",
      " 7   availableCountries  155 non-null    object \n",
      "dtypes: float64(3), object(5)\n",
      "memory usage: 1.3+ MB\n"
     ]
    }
   ],
   "source": [
    "df.info() # checking the all information of the data"
   ]
  },
  {
   "cell_type": "code",
   "execution_count": 344,
   "id": "18241699-ec49-4bfe-be7f-866fbfdacdc6",
   "metadata": {},
   "outputs": [
    {
     "data": {
      "text/plain": [
       "title                   731\n",
       "type                      0\n",
       "genres                  370\n",
       "releaseYear              40\n",
       "imdbId                 1642\n",
       "imdbAverageRating      1820\n",
       "imdbNumVotes           1820\n",
       "availableCountries    21695\n",
       "dtype: int64"
      ]
     },
     "execution_count": 344,
     "metadata": {},
     "output_type": "execute_result"
    }
   ],
   "source": [
    "df.isnull().sum() # checking the null values along every columns"
   ]
  },
  {
   "cell_type": "code",
   "execution_count": 346,
   "id": "aed30233-727a-4b52-8390-5e20e08cca84",
   "metadata": {},
   "outputs": [],
   "source": [
    "df['releaseYear'] = pd.to_datetime(df['releaseYear'], format = '%Y', errors = 'coerce') # coveting the column to date time format"
   ]
  },
  {
   "cell_type": "code",
   "execution_count": 348,
   "id": "4ad74c8c-97af-49b7-b55e-db50aaa32ac4",
   "metadata": {},
   "outputs": [],
   "source": [
    "df = df[df['title'].notna()]"
   ]
  },
  {
   "cell_type": "code",
   "execution_count": 350,
   "id": "2e27d030-16e3-422f-922a-8289608f3dbd",
   "metadata": {},
   "outputs": [
    {
     "data": {
      "text/plain": [
       "title                     0\n",
       "type                      0\n",
       "genres                  171\n",
       "releaseYear               3\n",
       "imdbId                  911\n",
       "imdbAverageRating      1089\n",
       "imdbNumVotes           1089\n",
       "availableCountries    20997\n",
       "dtype: int64"
      ]
     },
     "execution_count": 350,
     "metadata": {},
     "output_type": "execute_result"
    }
   ],
   "source": [
    "df.isnull().sum()"
   ]
  },
  {
   "cell_type": "code",
   "execution_count": 352,
   "id": "e119e9bc-ae6e-4bea-b0e6-39ce6a8f9256",
   "metadata": {},
   "outputs": [],
   "source": [
    "mode_value = df['genres'].mode()[0] # finding the most frequent values for this specific column"
   ]
  },
  {
   "cell_type": "code",
   "execution_count": 354,
   "id": "32bb34ef-d028-4b71-bf83-8b1337c3135c",
   "metadata": {},
   "outputs": [],
   "source": [
    "df['genres'] = df['genres'].fillna(mode_value)"
   ]
  },
  {
   "cell_type": "code",
   "execution_count": 356,
   "id": "e19c4fbd-347f-44b3-a64b-1aef9190db59",
   "metadata": {},
   "outputs": [
    {
     "data": {
      "text/plain": [
       "title                     0\n",
       "type                      0\n",
       "genres                    0\n",
       "releaseYear               3\n",
       "imdbId                  911\n",
       "imdbAverageRating      1089\n",
       "imdbNumVotes           1089\n",
       "availableCountries    20997\n",
       "dtype: int64"
      ]
     },
     "execution_count": 356,
     "metadata": {},
     "output_type": "execute_result"
    }
   ],
   "source": [
    "df.isnull().sum()"
   ]
  },
  {
   "cell_type": "code",
   "execution_count": 358,
   "id": "4cca9bbd-1181-4478-af30-f362615672a4",
   "metadata": {},
   "outputs": [],
   "source": [
    "mode_value_year = df['releaseYear'].mode()[0]"
   ]
  },
  {
   "cell_type": "code",
   "execution_count": 360,
   "id": "695f74f0-1792-4976-be77-f86b7d84e2e1",
   "metadata": {},
   "outputs": [],
   "source": [
    "df['releaseYear'] = df['releaseYear'].fillna(mode_value_year)"
   ]
  },
  {
   "cell_type": "code",
   "execution_count": 362,
   "id": "5a0547da-286e-4af5-8acc-24fbc890bc78",
   "metadata": {},
   "outputs": [
    {
     "data": {
      "text/plain": [
       "title                     0\n",
       "type                      0\n",
       "genres                    0\n",
       "releaseYear               0\n",
       "imdbId                  911\n",
       "imdbAverageRating      1089\n",
       "imdbNumVotes           1089\n",
       "availableCountries    20997\n",
       "dtype: int64"
      ]
     },
     "execution_count": 362,
     "metadata": {},
     "output_type": "execute_result"
    }
   ],
   "source": [
    "df.isnull().sum()"
   ]
  },
  {
   "cell_type": "code",
   "execution_count": 364,
   "id": "bee247e9-d681-4548-916a-f122455eea92",
   "metadata": {},
   "outputs": [
    {
     "data": {
      "text/plain": [
       "dtype('O')"
      ]
     },
     "execution_count": 364,
     "metadata": {},
     "output_type": "execute_result"
    }
   ],
   "source": [
    "df['imdbId'].dtype"
   ]
  },
  {
   "cell_type": "code",
   "execution_count": 366,
   "id": "8e2d82fd-940a-4a74-9cf6-44778b9ec5eb",
   "metadata": {},
   "outputs": [
    {
     "data": {
      "text/plain": [
       "dtype('O')"
      ]
     },
     "execution_count": 366,
     "metadata": {},
     "output_type": "execute_result"
    }
   ],
   "source": [
    "df['imdbId'].dtype"
   ]
  },
  {
   "cell_type": "code",
   "execution_count": 368,
   "id": "2ca29596-a910-4ab4-8573-939db11765f2",
   "metadata": {},
   "outputs": [
    {
     "name": "stdout",
     "output_type": "stream",
     "text": [
      "0         tt0094675\n",
      "1         tt0092149\n",
      "2         tt0109830\n",
      "3         tt0169547\n",
      "4         tt0119116\n",
      "            ...    \n",
      "21841    tt36587037\n",
      "21842    tt36590949\n",
      "21845    tt32249973\n",
      "21846    tt36614653\n",
      "21849    tt21964626\n",
      "Name: imdbId, Length: 21119, dtype: object\n",
      "911\n",
      "20208\n"
     ]
    }
   ],
   "source": [
    "print(df['imdbId'])\n",
    "print(df['imdbId'].isna().sum())  # Number of missing values\n",
    "print(df['imdbId'].notna().sum())  # Number of valid numbers"
   ]
  },
  {
   "cell_type": "code",
   "execution_count": 370,
   "id": "5c40d84c-9452-4c9d-8827-f8fc749b7aa9",
   "metadata": {},
   "outputs": [
    {
     "name": "stdout",
     "output_type": "stream",
     "text": [
      "object\n",
      "0    tt0094675\n",
      "1    tt0092149\n",
      "2    tt0109830\n",
      "3    tt0169547\n",
      "4    tt0119116\n",
      "Name: imdbId, dtype: object\n"
     ]
    }
   ],
   "source": [
    "print(df['imdbId'].dtype)\n",
    "print(df['imdbId'].head())"
   ]
  },
  {
   "cell_type": "code",
   "execution_count": 372,
   "id": "0d7a9aad-5c90-47c3-902b-821ebea8d8aa",
   "metadata": {},
   "outputs": [
    {
     "data": {
      "text/plain": [
       "title                     0\n",
       "type                      0\n",
       "genres                    0\n",
       "releaseYear               0\n",
       "imdbId                  911\n",
       "imdbAverageRating      1089\n",
       "imdbNumVotes           1089\n",
       "availableCountries    20997\n",
       "dtype: int64"
      ]
     },
     "execution_count": 372,
     "metadata": {},
     "output_type": "execute_result"
    }
   ],
   "source": [
    "df.isnull().sum()"
   ]
  },
  {
   "cell_type": "code",
   "execution_count": 374,
   "id": "e7039a5b-2e2f-4b8e-9181-3a8925069ea2",
   "metadata": {},
   "outputs": [
    {
     "data": {
      "text/plain": [
       "911"
      ]
     },
     "execution_count": 374,
     "metadata": {},
     "output_type": "execute_result"
    }
   ],
   "source": [
    "df['imdbId'].isnull().sum()"
   ]
  },
  {
   "cell_type": "code",
   "execution_count": 376,
   "id": "1826d03a-ee6c-408a-b6dd-ea71816b126d",
   "metadata": {},
   "outputs": [],
   "source": [
    "df.drop(columns=['imdbId'], inplace = True)"
   ]
  },
  {
   "cell_type": "code",
   "execution_count": 378,
   "id": "f4687e60-9a4c-45e2-ab31-244f15ca4f9e",
   "metadata": {},
   "outputs": [
    {
     "data": {
      "text/plain": [
       "title                     0\n",
       "type                      0\n",
       "genres                    0\n",
       "releaseYear               0\n",
       "imdbAverageRating      1089\n",
       "imdbNumVotes           1089\n",
       "availableCountries    20997\n",
       "dtype: int64"
      ]
     },
     "execution_count": 378,
     "metadata": {},
     "output_type": "execute_result"
    }
   ],
   "source": [
    "df.isnull().sum()"
   ]
  },
  {
   "cell_type": "code",
   "execution_count": 381,
   "id": "1baed838-9526-45bc-8225-b286cc6897ca",
   "metadata": {},
   "outputs": [],
   "source": [
    "mean_value = df['imdbAverageRating'].mean()\n",
    "df['imdbAverageRating'] = df['imdbAverageRating'].fillna(mean_value)"
   ]
  },
  {
   "cell_type": "code",
   "execution_count": 383,
   "id": "cb1e0a86-90e4-471b-a5a4-3835471add1f",
   "metadata": {},
   "outputs": [
    {
     "data": {
      "text/plain": [
       "title                     0\n",
       "type                      0\n",
       "genres                    0\n",
       "releaseYear               0\n",
       "imdbAverageRating         0\n",
       "imdbNumVotes           1089\n",
       "availableCountries    20997\n",
       "dtype: int64"
      ]
     },
     "execution_count": 383,
     "metadata": {},
     "output_type": "execute_result"
    }
   ],
   "source": [
    "df.isnull().sum()"
   ]
  },
  {
   "cell_type": "code",
   "execution_count": 385,
   "id": "e5952d58-23da-4c7c-b0c3-c7d642d92c7c",
   "metadata": {},
   "outputs": [],
   "source": [
    "df.drop(columns = ['imdbNumVotes'], inplace = True)"
   ]
  },
  {
   "cell_type": "code",
   "execution_count": 387,
   "id": "cde3edb1-dcae-48a3-82f2-0e30c0cf5963",
   "metadata": {},
   "outputs": [
    {
     "data": {
      "text/plain": [
       "title                     0\n",
       "type                      0\n",
       "genres                    0\n",
       "releaseYear               0\n",
       "imdbAverageRating         0\n",
       "availableCountries    20997\n",
       "dtype: int64"
      ]
     },
     "execution_count": 387,
     "metadata": {},
     "output_type": "execute_result"
    }
   ],
   "source": [
    "df.isnull().sum()"
   ]
  },
  {
   "cell_type": "code",
   "execution_count": 389,
   "id": "18e264eb-4106-4d8a-b02d-7b1ad9dd5d9f",
   "metadata": {},
   "outputs": [
    {
     "name": "stdout",
     "output_type": "stream",
     "text": [
      "122\n"
     ]
    }
   ],
   "source": [
    "print(df['availableCountries'].notna().sum())"
   ]
  },
  {
   "cell_type": "code",
   "execution_count": 391,
   "id": "2421c45a-434c-418f-9b92-f4d0767bbb41",
   "metadata": {},
   "outputs": [],
   "source": [
    "df.drop(columns = ['availableCountries'], inplace = True)"
   ]
  },
  {
   "cell_type": "code",
   "execution_count": 393,
   "id": "f75da4e5-7dc1-44ac-84ee-3e06e4e200db",
   "metadata": {},
   "outputs": [
    {
     "data": {
      "text/plain": [
       "title                0\n",
       "type                 0\n",
       "genres               0\n",
       "releaseYear          0\n",
       "imdbAverageRating    0\n",
       "dtype: int64"
      ]
     },
     "execution_count": 393,
     "metadata": {},
     "output_type": "execute_result"
    }
   ],
   "source": [
    "df.isnull().sum()"
   ]
  },
  {
   "cell_type": "code",
   "execution_count": 397,
   "id": "55984b13-59e7-46c5-bec2-3f193aca5c7c",
   "metadata": {},
   "outputs": [
    {
     "name": "stdout",
     "output_type": "stream",
     "text": [
      "Index(['title', 'type', 'genres', 'releaseYear', 'imdbAverageRating'], dtype='object')\n"
     ]
    }
   ],
   "source": [
    "print(df.columns)"
   ]
  },
  {
   "cell_type": "code",
   "execution_count": null,
   "id": "3b020a44-b6fc-4a8b-acad-243d80d368d8",
   "metadata": {},
   "outputs": [],
   "source": []
  }
 ],
 "metadata": {
  "kernelspec": {
   "display_name": "Python 3 (ipykernel)",
   "language": "python",
   "name": "python3"
  },
  "language_info": {
   "codemirror_mode": {
    "name": "ipython",
    "version": 3
   },
   "file_extension": ".py",
   "mimetype": "text/x-python",
   "name": "python",
   "nbconvert_exporter": "python",
   "pygments_lexer": "ipython3",
   "version": "3.12.4"
  }
 },
 "nbformat": 4,
 "nbformat_minor": 5
}
